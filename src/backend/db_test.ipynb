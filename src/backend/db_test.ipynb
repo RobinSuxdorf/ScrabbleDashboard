{
 "cells": [
  {
   "cell_type": "code",
   "execution_count": 1,
   "metadata": {},
   "outputs": [],
   "source": [
    "import sqlite3"
   ]
  },
  {
   "cell_type": "code",
   "execution_count": 2,
   "metadata": {},
   "outputs": [],
   "source": [
    "with sqlite3.connect(\"scrabble.db\") as conn:\n",
    "    conn.execute(\"\"\"\n",
    "        CREATE TABLE players (\n",
    "            player_id INTEGER PRIMARY KEY,\n",
    "            name TEXT NOT NULL\n",
    "        )\n",
    "    \"\"\")"
   ]
  },
  {
   "cell_type": "code",
   "execution_count": 3,
   "metadata": {},
   "outputs": [],
   "source": [
    "with sqlite3.connect(\"scrabble.db\") as conn:\n",
    "    conn.execute(\"\"\"\n",
    "        CREATE TABLE games (\n",
    "            game_id INTEGER PRIMARY KEY,\n",
    "            started_by INTEGER,\n",
    "            winner INTEGER,\n",
    "            FOREIGN KEY (started_by) REFERENCES players(player_id),\n",
    "            FOREIGN KEY (winner) REFERENCES players(player_id)\n",
    "        )\n",
    "    \"\"\")"
   ]
  },
  {
   "cell_type": "code",
   "execution_count": 4,
   "metadata": {},
   "outputs": [],
   "source": [
    "with sqlite3.connect(\"scrabble.db\") as conn:\n",
    "    conn.execute(\"\"\"\n",
    "        CREATE TABLE game_scores (\n",
    "            game_id INTEGER,\n",
    "            player_id INTEGER,\n",
    "            score INTEGER,\n",
    "            PRIMARY KEY (game_id, player_id),\n",
    "            FOREIGN KEY (game_id) REFERENCES games(game_id),\n",
    "            FOREIGN KEY (player_id) REFERENCES players(player_id)\n",
    "        )\n",
    "    \"\"\")"
   ]
  },
  {
   "cell_type": "code",
   "execution_count": 5,
   "metadata": {},
   "outputs": [],
   "source": [
    "with sqlite3.connect(\"scrabble.db\") as conn:\n",
    "    conn.execute(\"\"\"\n",
    "    CREATE TABLE game_moves (\n",
    "        game_id INTEGER,\n",
    "        player_id INTEGER,\n",
    "        move_number INTEGER,\n",
    "        points INTEGER,\n",
    "        PRIMARY KEY (game_id, player_id, move_number),\n",
    "        FOREIGN KEY (game_id) REFERENCES games(game_id),\n",
    "        FOREIGN KEY (player_id) REFERENCES players(player_id)\n",
    "    )\n",
    "    \"\"\")"
   ]
  },
  {
   "cell_type": "code",
   "execution_count": 6,
   "metadata": {},
   "outputs": [],
   "source": [
    "with sqlite3.connect(\"scrabble.db\") as conn:\n",
    "    conn.execute(\"\"\"\n",
    "        INSERT INTO players (name)\n",
    "        VALUES ('Deniz'), ('Danyel'), ('Robin')\n",
    "    \"\"\")"
   ]
  },
  {
   "cell_type": "code",
   "execution_count": 7,
   "metadata": {},
   "outputs": [],
   "source": [
    "def get_player_id(connection, name: str) -> int | None:\n",
    "    response = connection.execute(\"\"\"\n",
    "        SELECT player_id\n",
    "        FROM players\n",
    "        WHERE name = ?\n",
    "    \"\"\", (name,))\n",
    "\n",
    "    result = response.fetchone()\n",
    "    if result:\n",
    "        return result[0]\n",
    "\n",
    "    return None"
   ]
  },
  {
   "cell_type": "code",
   "execution_count": 8,
   "metadata": {},
   "outputs": [],
   "source": [
    "import pandas as pd\n",
    "\n",
    "df = pd.read_csv(\"scrabble_data.csv\")\n",
    "\n",
    "with sqlite3.connect(\"scrabble.db\") as conn:\n",
    "    deniz_id = get_player_id(conn, \"Deniz\")\n",
    "    danyel_id = get_player_id(conn, \"Danyel\")\n",
    "    robin_id = get_player_id(conn, \"Robin\")\n",
    "\n",
    "with sqlite3.connect(\"scrabble.db\") as conn:\n",
    "    for _, row in df.iterrows():\n",
    "        started_by_id = get_player_id(conn, row[\"starting_player\"])\n",
    "        winner_id = get_player_id(conn, row[\"winner\"])\n",
    "\n",
    "        conn.execute(\"\"\"\n",
    "            INSERT INTO games (started_by, winner)\n",
    "            VALUES (?, ?)\n",
    "        \"\"\", (started_by_id, winner_id))"
   ]
  },
  {
   "cell_type": "code",
   "execution_count": 11,
   "metadata": {},
   "outputs": [
    {
     "name": "stdout",
     "output_type": "stream",
     "text": [
      "[(1, 'Robin'), (2, 'Robin'), (3, 'Deniz'), (4, 'Robin'), (5, 'Danyel'), (6, 'Danyel'), (7, 'Deniz'), (8, 'Robin'), (9, 'Robin'), (10, 'Danyel'), (11, 'Danyel'), (12, 'Robin'), (13, 'Danyel'), (14, 'Danyel'), (15, 'Deniz'), (16, 'Danyel'), (17, 'Deniz'), (18, 'Robin'), (19, 'Robin'), (20, 'Robin'), (21, 'Deniz'), (22, 'Deniz'), (23, 'Robin'), (24, 'Robin'), (25, 'Danyel'), (26, 'Danyel'), (27, 'Robin'), (28, 'Robin'), (29, 'Robin'), (30, 'Danyel'), (31, 'Robin'), (32, 'Danyel'), (33, 'Robin'), (34, 'Danyel'), (35, 'Deniz'), (37, 'Robin'), (38, 'Danyel'), (39, 'Danyel'), (40, 'Danyel'), (41, 'Deniz'), (42, 'Robin'), (43, 'Deniz'), (44, 'Deniz'), (45, 'Danyel'), (46, 'Deniz'), (47, 'Deniz'), (48, 'Robin'), (49, 'Danyel'), (50, 'Deniz'), (51, 'Danyel'), (52, 'Danyel'), (53, 'Robin'), (54, 'Danyel'), (55, 'Danyel'), (56, 'Robin'), (57, 'Deniz'), (58, 'Robin'), (59, 'Danyel'), (60, 'Deniz'), (61, 'Robin'), (62, 'Robin'), (63, 'Deniz'), (64, 'Deniz'), (65, 'Danyel'), (66, 'Danyel'), (67, 'Deniz'), (68, 'Deniz'), (69, 'Deniz'), (70, 'Danyel'), (71, 'Deniz'), (72, 'Danyel'), (73, 'Deniz'), (74, 'Deniz'), (75, 'Deniz'), (76, 'Robin'), (77, 'Danyel'), (78, 'Deniz'), (79, 'Robin'), (80, 'Robin'), (81, 'Robin'), (82, 'Deniz'), (83, 'Robin'), (85, 'Robin'), (86, 'Deniz'), (87, 'Danyel'), (88, 'Danyel'), (89, 'Deniz'), (90, 'Robin'), (91, 'Robin'), (92, 'Danyel'), (93, 'Robin'), (94, 'Deniz'), (95, 'Robin'), (96, 'Robin'), (97, 'Danyel'), (98, 'Danyel'), (99, 'Robin'), (100, 'Robin'), (101, 'Danyel'), (102, 'Robin'), (103, 'Robin'), (104, 'Robin'), (105, 'Danyel'), (106, 'Deniz'), (107, 'Danyel'), (108, 'Deniz'), (109, 'Robin'), (110, 'Danyel'), (111, 'Robin'), (112, 'Robin')]\n"
     ]
    }
   ],
   "source": [
    "with sqlite3.connect(\"scrabble.db\") as conn:\n",
    "    conn.row_factory = sqlite3.Row\n",
    "    response = conn.execute(\"\"\"\n",
    "        SELECT g.game_id, p.name\n",
    "        FROM games g\n",
    "        INNER JOIN players p ON p.player_id = g.winner\n",
    "    \"\"\")\n",
    "\n",
    "    result = response.fetchall()\n",
    "    print(result)\n"
   ]
  },
  {
   "cell_type": "code",
   "execution_count": 14,
   "metadata": {},
   "outputs": [
    {
     "name": "stdout",
     "output_type": "stream",
     "text": [
      "[{'game_id': 1, 'name': 'Robin'}, {'game_id': 2, 'name': 'Robin'}, {'game_id': 3, 'name': 'Deniz'}, {'game_id': 4, 'name': 'Robin'}, {'game_id': 5, 'name': 'Danyel'}, {'game_id': 6, 'name': 'Danyel'}, {'game_id': 7, 'name': 'Deniz'}, {'game_id': 8, 'name': 'Robin'}, {'game_id': 9, 'name': 'Robin'}, {'game_id': 10, 'name': 'Danyel'}, {'game_id': 11, 'name': 'Danyel'}, {'game_id': 12, 'name': 'Robin'}, {'game_id': 13, 'name': 'Danyel'}, {'game_id': 14, 'name': 'Danyel'}, {'game_id': 15, 'name': 'Deniz'}, {'game_id': 16, 'name': 'Danyel'}, {'game_id': 17, 'name': 'Deniz'}, {'game_id': 18, 'name': 'Robin'}, {'game_id': 19, 'name': 'Robin'}, {'game_id': 20, 'name': 'Robin'}, {'game_id': 21, 'name': 'Deniz'}, {'game_id': 22, 'name': 'Deniz'}, {'game_id': 23, 'name': 'Robin'}, {'game_id': 24, 'name': 'Robin'}, {'game_id': 25, 'name': 'Danyel'}, {'game_id': 26, 'name': 'Danyel'}, {'game_id': 27, 'name': 'Robin'}, {'game_id': 28, 'name': 'Robin'}, {'game_id': 29, 'name': 'Robin'}, {'game_id': 30, 'name': 'Danyel'}, {'game_id': 31, 'name': 'Robin'}, {'game_id': 32, 'name': 'Danyel'}, {'game_id': 33, 'name': 'Robin'}, {'game_id': 34, 'name': 'Danyel'}, {'game_id': 35, 'name': 'Deniz'}, {'game_id': 36, 'name': None}, {'game_id': 37, 'name': 'Robin'}, {'game_id': 38, 'name': 'Danyel'}, {'game_id': 39, 'name': 'Danyel'}, {'game_id': 40, 'name': 'Danyel'}, {'game_id': 41, 'name': 'Deniz'}, {'game_id': 42, 'name': 'Robin'}, {'game_id': 43, 'name': 'Deniz'}, {'game_id': 44, 'name': 'Deniz'}, {'game_id': 45, 'name': 'Danyel'}, {'game_id': 46, 'name': 'Deniz'}, {'game_id': 47, 'name': 'Deniz'}, {'game_id': 48, 'name': 'Robin'}, {'game_id': 49, 'name': 'Danyel'}, {'game_id': 50, 'name': 'Deniz'}, {'game_id': 51, 'name': 'Danyel'}, {'game_id': 52, 'name': 'Danyel'}, {'game_id': 53, 'name': 'Robin'}, {'game_id': 54, 'name': 'Danyel'}, {'game_id': 55, 'name': 'Danyel'}, {'game_id': 56, 'name': 'Robin'}, {'game_id': 57, 'name': 'Deniz'}, {'game_id': 58, 'name': 'Robin'}, {'game_id': 59, 'name': 'Danyel'}, {'game_id': 60, 'name': 'Deniz'}, {'game_id': 61, 'name': 'Robin'}, {'game_id': 62, 'name': 'Robin'}, {'game_id': 63, 'name': 'Deniz'}, {'game_id': 64, 'name': 'Deniz'}, {'game_id': 65, 'name': 'Danyel'}, {'game_id': 66, 'name': 'Danyel'}, {'game_id': 67, 'name': 'Deniz'}, {'game_id': 68, 'name': 'Deniz'}, {'game_id': 69, 'name': 'Deniz'}, {'game_id': 70, 'name': 'Danyel'}, {'game_id': 71, 'name': 'Deniz'}, {'game_id': 72, 'name': 'Danyel'}, {'game_id': 73, 'name': 'Deniz'}, {'game_id': 74, 'name': 'Deniz'}, {'game_id': 75, 'name': 'Deniz'}, {'game_id': 76, 'name': 'Robin'}, {'game_id': 77, 'name': 'Danyel'}, {'game_id': 78, 'name': 'Deniz'}, {'game_id': 79, 'name': 'Robin'}, {'game_id': 80, 'name': 'Robin'}, {'game_id': 81, 'name': 'Robin'}, {'game_id': 82, 'name': 'Deniz'}, {'game_id': 83, 'name': 'Robin'}, {'game_id': 84, 'name': None}, {'game_id': 85, 'name': 'Robin'}, {'game_id': 86, 'name': 'Deniz'}, {'game_id': 87, 'name': 'Danyel'}, {'game_id': 88, 'name': 'Danyel'}, {'game_id': 89, 'name': 'Deniz'}, {'game_id': 90, 'name': 'Robin'}, {'game_id': 91, 'name': 'Robin'}, {'game_id': 92, 'name': 'Danyel'}, {'game_id': 93, 'name': 'Robin'}, {'game_id': 94, 'name': 'Deniz'}, {'game_id': 95, 'name': 'Robin'}, {'game_id': 96, 'name': 'Robin'}, {'game_id': 97, 'name': 'Danyel'}, {'game_id': 98, 'name': 'Danyel'}, {'game_id': 99, 'name': 'Robin'}, {'game_id': 100, 'name': 'Robin'}, {'game_id': 101, 'name': 'Danyel'}, {'game_id': 102, 'name': 'Robin'}, {'game_id': 103, 'name': 'Robin'}, {'game_id': 104, 'name': 'Robin'}, {'game_id': 105, 'name': 'Danyel'}, {'game_id': 106, 'name': 'Deniz'}, {'game_id': 107, 'name': 'Danyel'}, {'game_id': 108, 'name': 'Deniz'}, {'game_id': 109, 'name': 'Robin'}, {'game_id': 110, 'name': 'Danyel'}, {'game_id': 111, 'name': 'Robin'}, {'game_id': 112, 'name': 'Robin'}]\n"
     ]
    }
   ],
   "source": [
    "with sqlite3.connect(\"scrabble.db\") as conn:\n",
    "    conn.row_factory = sqlite3.Row\n",
    "    response = conn.execute(\"\"\"\n",
    "        SELECT g.game_id, p.name\n",
    "        FROM games g\n",
    "        LEFT JOIN players p ON p.player_id = g.winner\n",
    "    \"\"\")\n",
    "\n",
    "    result = [dict(row) for row in response.fetchall()]\n",
    "    print(result)\n"
   ]
  },
  {
   "cell_type": "markdown",
   "metadata": {},
   "source": [
    "1. Table of all games (scores of each player, start player)\n",
    "    1a. Moves of a game (evolution of points over time)\n",
    "2. Stats for each player (best game, worst game, average points, ...)"
   ]
  }
 ],
 "metadata": {
  "kernelspec": {
   "display_name": "Python 3.12.5 64-bit",
   "language": "python",
   "name": "python3"
  },
  "language_info": {
   "codemirror_mode": {
    "name": "ipython",
    "version": 3
   },
   "file_extension": ".py",
   "mimetype": "text/x-python",
   "name": "python",
   "nbconvert_exporter": "python",
   "pygments_lexer": "ipython3",
   "version": "3.12.5"
  },
  "orig_nbformat": 4,
  "vscode": {
   "interpreter": {
    "hash": "f1062708a37074d70712b695aadee582e0b0b9f95f45576b5521424137d05fec"
   }
  }
 },
 "nbformat": 4,
 "nbformat_minor": 2
}
